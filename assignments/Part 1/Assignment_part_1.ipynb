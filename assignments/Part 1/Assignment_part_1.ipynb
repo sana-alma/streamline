{
  "cells": [
    {
      "cell_type": "markdown",
      "metadata": {
        "id": "HqE4Si_OeOvD"
      },
      "source": [
        "<a href=\"https://colab.research.google.com/github/michalis0/MGT-502-Data-Science-and-Machine-Learning/blob/main/assignments/Part 1/Assignment_part_1.ipynb\" target=\"_parent\"><img src=\"https://colab.research.google.com/assets/colab-badge.svg\" alt=\"Open In Colab\"/></a>"
      ]
    },
    {
      "cell_type": "markdown",
      "metadata": {
        "id": "yrXLb3bx4cfD"
      },
      "source": [
        "# DSML investigation:\n",
        "### You are part of the Suisse Impossible Mission Force, or SIMF for short. You need to uncover a rogue agent that is trying to steal sensitive information.\n",
        "\n",
        "### Your mission, should you choose to accept it, is to find that agent before any classified information gets stolen. Good luck!\n"
      ]
    },
    {
      "cell_type": "markdown",
      "metadata": {
        "id": "4bVDcyJHHFjh"
      },
      "source": [
        "## Assignment part one\n",
        "\n",
        "Airport security confiscated a laptop of a spy, which was later given to you. The laptop contains some documents that might be useful in the investigation process. You retrieve those documents and want to analyse them. Our intelligence shows that the person that we are looking for has visited the USA between Sept 2019 to Oct 2020. He is currently working undercover.\n",
        "\n",
        "\n",
        "### Getting to know our data\n",
        "\n",
        "We have retrieved from the laptop the following file:\n",
        "- A list of suspects\n",
        "- The flight records of these potential suspects\n",
        "\n"
      ]
    },
    {
      "cell_type": "code",
      "execution_count": 1,
      "metadata": {
        "id": "abwjDTZRHvzn"
      },
      "outputs": [],
      "source": [
        "import pandas as pd\n",
        "import numpy as np\n",
        "import matplotlib.pyplot as plt"
      ]
    },
    {
      "cell_type": "code",
      "execution_count": 32,
      "metadata": {
        "id": "ZJoCQOe5eOvF"
      },
      "outputs": [],
      "source": [
        "user_records = pd.read_csv(\"https://raw.githubusercontent.com/michalis0/MGT-502-Data-Science-and-Machine-Learning/refs/heads/main/assignments/Part%201/data/userRecords.csv\")\n",
        "travel_records = pd.read_csv(\"https://raw.githubusercontent.com/michalis0/MGT-502-Data-Science-and-Machine-Learning/refs/heads/main/assignments/Part%201/data/flightRecords.csv\")"
      ]
    },
    {
      "cell_type": "markdown",
      "metadata": {
        "id": "Fl_HmWwtIBDJ"
      },
      "source": [
        "#### Shape of the data\n",
        "\n",
        "Let's first check how many rows and columns (features) are in the user records"
      ]
    },
    {
      "cell_type": "code",
      "execution_count": 4,
      "metadata": {
        "id": "uICj1b0GIEKG",
        "outputId": "82106587-768a-4d4a-fdd7-ccdd2c66be8c",
        "colab": {
          "base_uri": "https://localhost:8080/"
        }
      },
      "outputs": [
        {
          "output_type": "execute_result",
          "data": {
            "text/plain": [
              "(957, 8)"
            ]
          },
          "metadata": {},
          "execution_count": 4
        }
      ],
      "source": [
        "#Your code here\n",
        "user_records.shape"
      ]
    },
    {
      "cell_type": "markdown",
      "metadata": {
        "id": "2XIhLUBJDmfq"
      },
      "source": [
        "**Q1. How many rows are there in the user records dataset?**"
      ]
    },
    {
      "cell_type": "markdown",
      "source": [
        "There are 957 rows in the user records dataset."
      ],
      "metadata": {
        "id": "g25QLqh5frzt"
      }
    },
    {
      "cell_type": "markdown",
      "metadata": {
        "id": "JT6l8O-2ISqh"
      },
      "source": [
        "\n",
        "#### Check out the first few rows\n",
        "Print the first few rows of the user records dataset and check them. Note that to protect innocent people, the name of the suspects have been censored, those will be revealed once number of potential suspects decreases.\n"
      ]
    },
    {
      "cell_type": "code",
      "execution_count": 5,
      "metadata": {
        "id": "xce5aB8SIOeu",
        "outputId": "b2f0250a-76b4-46d9-fc76-ed30ecf573ee",
        "colab": {
          "base_uri": "https://localhost:8080/",
          "height": 204
        }
      },
      "outputs": [
        {
          "output_type": "execute_result",
          "data": {
            "text/plain": [
              "   UserID first_name  last_name  birthday country marital_status  \\\n",
              "0  317991      Lu***    Al*****  29.07.03      AR              1   \n",
              "1  241892     Ma****  Ro*******  10.11.99      AR              1   \n",
              "2  303376     Fr****     Ac****  25.07.84      AR              1   \n",
              "3  761992     Fr****      Go***  20.03.70      AR              1   \n",
              "4  373318      Jo***      Ro***  05.10.71      AR              1   \n",
              "\n",
              "   number_of_kids               employment  \n",
              "0             2.0             Web Designer  \n",
              "1             0.0                   Banker  \n",
              "2             0.0            Kitchen staff  \n",
              "3             0.0       Teaching Assistant  \n",
              "4             0.0  Administrative employee  "
            ],
            "text/html": [
              "\n",
              "  <div id=\"df-a8dd778b-bde9-41f7-8dd5-d7169b1c90b3\" class=\"colab-df-container\">\n",
              "    <div>\n",
              "<style scoped>\n",
              "    .dataframe tbody tr th:only-of-type {\n",
              "        vertical-align: middle;\n",
              "    }\n",
              "\n",
              "    .dataframe tbody tr th {\n",
              "        vertical-align: top;\n",
              "    }\n",
              "\n",
              "    .dataframe thead th {\n",
              "        text-align: right;\n",
              "    }\n",
              "</style>\n",
              "<table border=\"1\" class=\"dataframe\">\n",
              "  <thead>\n",
              "    <tr style=\"text-align: right;\">\n",
              "      <th></th>\n",
              "      <th>UserID</th>\n",
              "      <th>first_name</th>\n",
              "      <th>last_name</th>\n",
              "      <th>birthday</th>\n",
              "      <th>country</th>\n",
              "      <th>marital_status</th>\n",
              "      <th>number_of_kids</th>\n",
              "      <th>employment</th>\n",
              "    </tr>\n",
              "  </thead>\n",
              "  <tbody>\n",
              "    <tr>\n",
              "      <th>0</th>\n",
              "      <td>317991</td>\n",
              "      <td>Lu***</td>\n",
              "      <td>Al*****</td>\n",
              "      <td>29.07.03</td>\n",
              "      <td>AR</td>\n",
              "      <td>1</td>\n",
              "      <td>2.0</td>\n",
              "      <td>Web Designer</td>\n",
              "    </tr>\n",
              "    <tr>\n",
              "      <th>1</th>\n",
              "      <td>241892</td>\n",
              "      <td>Ma****</td>\n",
              "      <td>Ro*******</td>\n",
              "      <td>10.11.99</td>\n",
              "      <td>AR</td>\n",
              "      <td>1</td>\n",
              "      <td>0.0</td>\n",
              "      <td>Banker</td>\n",
              "    </tr>\n",
              "    <tr>\n",
              "      <th>2</th>\n",
              "      <td>303376</td>\n",
              "      <td>Fr****</td>\n",
              "      <td>Ac****</td>\n",
              "      <td>25.07.84</td>\n",
              "      <td>AR</td>\n",
              "      <td>1</td>\n",
              "      <td>0.0</td>\n",
              "      <td>Kitchen staff</td>\n",
              "    </tr>\n",
              "    <tr>\n",
              "      <th>3</th>\n",
              "      <td>761992</td>\n",
              "      <td>Fr****</td>\n",
              "      <td>Go***</td>\n",
              "      <td>20.03.70</td>\n",
              "      <td>AR</td>\n",
              "      <td>1</td>\n",
              "      <td>0.0</td>\n",
              "      <td>Teaching Assistant</td>\n",
              "    </tr>\n",
              "    <tr>\n",
              "      <th>4</th>\n",
              "      <td>373318</td>\n",
              "      <td>Jo***</td>\n",
              "      <td>Ro***</td>\n",
              "      <td>05.10.71</td>\n",
              "      <td>AR</td>\n",
              "      <td>1</td>\n",
              "      <td>0.0</td>\n",
              "      <td>Administrative employee</td>\n",
              "    </tr>\n",
              "  </tbody>\n",
              "</table>\n",
              "</div>\n",
              "    <div class=\"colab-df-buttons\">\n",
              "\n",
              "  <div class=\"colab-df-container\">\n",
              "    <button class=\"colab-df-convert\" onclick=\"convertToInteractive('df-a8dd778b-bde9-41f7-8dd5-d7169b1c90b3')\"\n",
              "            title=\"Convert this dataframe to an interactive table.\"\n",
              "            style=\"display:none;\">\n",
              "\n",
              "  <svg xmlns=\"http://www.w3.org/2000/svg\" height=\"24px\" viewBox=\"0 -960 960 960\">\n",
              "    <path d=\"M120-120v-720h720v720H120Zm60-500h600v-160H180v160Zm220 220h160v-160H400v160Zm0 220h160v-160H400v160ZM180-400h160v-160H180v160Zm440 0h160v-160H620v160ZM180-180h160v-160H180v160Zm440 0h160v-160H620v160Z\"/>\n",
              "  </svg>\n",
              "    </button>\n",
              "\n",
              "  <style>\n",
              "    .colab-df-container {\n",
              "      display:flex;\n",
              "      gap: 12px;\n",
              "    }\n",
              "\n",
              "    .colab-df-convert {\n",
              "      background-color: #E8F0FE;\n",
              "      border: none;\n",
              "      border-radius: 50%;\n",
              "      cursor: pointer;\n",
              "      display: none;\n",
              "      fill: #1967D2;\n",
              "      height: 32px;\n",
              "      padding: 0 0 0 0;\n",
              "      width: 32px;\n",
              "    }\n",
              "\n",
              "    .colab-df-convert:hover {\n",
              "      background-color: #E2EBFA;\n",
              "      box-shadow: 0px 1px 2px rgba(60, 64, 67, 0.3), 0px 1px 3px 1px rgba(60, 64, 67, 0.15);\n",
              "      fill: #174EA6;\n",
              "    }\n",
              "\n",
              "    .colab-df-buttons div {\n",
              "      margin-bottom: 4px;\n",
              "    }\n",
              "\n",
              "    [theme=dark] .colab-df-convert {\n",
              "      background-color: #3B4455;\n",
              "      fill: #D2E3FC;\n",
              "    }\n",
              "\n",
              "    [theme=dark] .colab-df-convert:hover {\n",
              "      background-color: #434B5C;\n",
              "      box-shadow: 0px 1px 3px 1px rgba(0, 0, 0, 0.15);\n",
              "      filter: drop-shadow(0px 1px 2px rgba(0, 0, 0, 0.3));\n",
              "      fill: #FFFFFF;\n",
              "    }\n",
              "  </style>\n",
              "\n",
              "    <script>\n",
              "      const buttonEl =\n",
              "        document.querySelector('#df-a8dd778b-bde9-41f7-8dd5-d7169b1c90b3 button.colab-df-convert');\n",
              "      buttonEl.style.display =\n",
              "        google.colab.kernel.accessAllowed ? 'block' : 'none';\n",
              "\n",
              "      async function convertToInteractive(key) {\n",
              "        const element = document.querySelector('#df-a8dd778b-bde9-41f7-8dd5-d7169b1c90b3');\n",
              "        const dataTable =\n",
              "          await google.colab.kernel.invokeFunction('convertToInteractive',\n",
              "                                                    [key], {});\n",
              "        if (!dataTable) return;\n",
              "\n",
              "        const docLinkHtml = 'Like what you see? Visit the ' +\n",
              "          '<a target=\"_blank\" href=https://colab.research.google.com/notebooks/data_table.ipynb>data table notebook</a>'\n",
              "          + ' to learn more about interactive tables.';\n",
              "        element.innerHTML = '';\n",
              "        dataTable['output_type'] = 'display_data';\n",
              "        await google.colab.output.renderOutput(dataTable, element);\n",
              "        const docLink = document.createElement('div');\n",
              "        docLink.innerHTML = docLinkHtml;\n",
              "        element.appendChild(docLink);\n",
              "      }\n",
              "    </script>\n",
              "  </div>\n",
              "\n",
              "\n",
              "<div id=\"df-21f1f1b7-0d7b-4298-ab6e-1e465b580b69\">\n",
              "  <button class=\"colab-df-quickchart\" onclick=\"quickchart('df-21f1f1b7-0d7b-4298-ab6e-1e465b580b69')\"\n",
              "            title=\"Suggest charts\"\n",
              "            style=\"display:none;\">\n",
              "\n",
              "<svg xmlns=\"http://www.w3.org/2000/svg\" height=\"24px\"viewBox=\"0 0 24 24\"\n",
              "     width=\"24px\">\n",
              "    <g>\n",
              "        <path d=\"M19 3H5c-1.1 0-2 .9-2 2v14c0 1.1.9 2 2 2h14c1.1 0 2-.9 2-2V5c0-1.1-.9-2-2-2zM9 17H7v-7h2v7zm4 0h-2V7h2v10zm4 0h-2v-4h2v4z\"/>\n",
              "    </g>\n",
              "</svg>\n",
              "  </button>\n",
              "\n",
              "<style>\n",
              "  .colab-df-quickchart {\n",
              "      --bg-color: #E8F0FE;\n",
              "      --fill-color: #1967D2;\n",
              "      --hover-bg-color: #E2EBFA;\n",
              "      --hover-fill-color: #174EA6;\n",
              "      --disabled-fill-color: #AAA;\n",
              "      --disabled-bg-color: #DDD;\n",
              "  }\n",
              "\n",
              "  [theme=dark] .colab-df-quickchart {\n",
              "      --bg-color: #3B4455;\n",
              "      --fill-color: #D2E3FC;\n",
              "      --hover-bg-color: #434B5C;\n",
              "      --hover-fill-color: #FFFFFF;\n",
              "      --disabled-bg-color: #3B4455;\n",
              "      --disabled-fill-color: #666;\n",
              "  }\n",
              "\n",
              "  .colab-df-quickchart {\n",
              "    background-color: var(--bg-color);\n",
              "    border: none;\n",
              "    border-radius: 50%;\n",
              "    cursor: pointer;\n",
              "    display: none;\n",
              "    fill: var(--fill-color);\n",
              "    height: 32px;\n",
              "    padding: 0;\n",
              "    width: 32px;\n",
              "  }\n",
              "\n",
              "  .colab-df-quickchart:hover {\n",
              "    background-color: var(--hover-bg-color);\n",
              "    box-shadow: 0 1px 2px rgba(60, 64, 67, 0.3), 0 1px 3px 1px rgba(60, 64, 67, 0.15);\n",
              "    fill: var(--button-hover-fill-color);\n",
              "  }\n",
              "\n",
              "  .colab-df-quickchart-complete:disabled,\n",
              "  .colab-df-quickchart-complete:disabled:hover {\n",
              "    background-color: var(--disabled-bg-color);\n",
              "    fill: var(--disabled-fill-color);\n",
              "    box-shadow: none;\n",
              "  }\n",
              "\n",
              "  .colab-df-spinner {\n",
              "    border: 2px solid var(--fill-color);\n",
              "    border-color: transparent;\n",
              "    border-bottom-color: var(--fill-color);\n",
              "    animation:\n",
              "      spin 1s steps(1) infinite;\n",
              "  }\n",
              "\n",
              "  @keyframes spin {\n",
              "    0% {\n",
              "      border-color: transparent;\n",
              "      border-bottom-color: var(--fill-color);\n",
              "      border-left-color: var(--fill-color);\n",
              "    }\n",
              "    20% {\n",
              "      border-color: transparent;\n",
              "      border-left-color: var(--fill-color);\n",
              "      border-top-color: var(--fill-color);\n",
              "    }\n",
              "    30% {\n",
              "      border-color: transparent;\n",
              "      border-left-color: var(--fill-color);\n",
              "      border-top-color: var(--fill-color);\n",
              "      border-right-color: var(--fill-color);\n",
              "    }\n",
              "    40% {\n",
              "      border-color: transparent;\n",
              "      border-right-color: var(--fill-color);\n",
              "      border-top-color: var(--fill-color);\n",
              "    }\n",
              "    60% {\n",
              "      border-color: transparent;\n",
              "      border-right-color: var(--fill-color);\n",
              "    }\n",
              "    80% {\n",
              "      border-color: transparent;\n",
              "      border-right-color: var(--fill-color);\n",
              "      border-bottom-color: var(--fill-color);\n",
              "    }\n",
              "    90% {\n",
              "      border-color: transparent;\n",
              "      border-bottom-color: var(--fill-color);\n",
              "    }\n",
              "  }\n",
              "</style>\n",
              "\n",
              "  <script>\n",
              "    async function quickchart(key) {\n",
              "      const quickchartButtonEl =\n",
              "        document.querySelector('#' + key + ' button');\n",
              "      quickchartButtonEl.disabled = true;  // To prevent multiple clicks.\n",
              "      quickchartButtonEl.classList.add('colab-df-spinner');\n",
              "      try {\n",
              "        const charts = await google.colab.kernel.invokeFunction(\n",
              "            'suggestCharts', [key], {});\n",
              "      } catch (error) {\n",
              "        console.error('Error during call to suggestCharts:', error);\n",
              "      }\n",
              "      quickchartButtonEl.classList.remove('colab-df-spinner');\n",
              "      quickchartButtonEl.classList.add('colab-df-quickchart-complete');\n",
              "    }\n",
              "    (() => {\n",
              "      let quickchartButtonEl =\n",
              "        document.querySelector('#df-21f1f1b7-0d7b-4298-ab6e-1e465b580b69 button');\n",
              "      quickchartButtonEl.style.display =\n",
              "        google.colab.kernel.accessAllowed ? 'block' : 'none';\n",
              "    })();\n",
              "  </script>\n",
              "</div>\n",
              "\n",
              "    </div>\n",
              "  </div>\n"
            ],
            "application/vnd.google.colaboratory.intrinsic+json": {
              "type": "dataframe",
              "variable_name": "user_records",
              "summary": "{\n  \"name\": \"user_records\",\n  \"rows\": 957,\n  \"fields\": [\n    {\n      \"column\": \"UserID\",\n      \"properties\": {\n        \"dtype\": \"number\",\n        \"std\": 254540,\n        \"min\": 96249,\n        \"max\": 957997,\n        \"num_unique_values\": 954,\n        \"samples\": [\n          673755,\n          687648,\n          344301\n        ],\n        \"semantic_type\": \"\",\n        \"description\": \"\"\n      }\n    },\n    {\n      \"column\": \"first_name\",\n      \"properties\": {\n        \"dtype\": \"category\",\n        \"num_unique_values\": 396,\n        \"samples\": [\n          \"Te*****\",\n          \"La***\",\n          \"\\ubbf8\\uc219\"\n        ],\n        \"semantic_type\": \"\",\n        \"description\": \"\"\n      }\n    },\n    {\n      \"column\": \"last_name\",\n      \"properties\": {\n        \"dtype\": \"category\",\n        \"num_unique_values\": 392,\n        \"samples\": [\n          \"Ol******\",\n          \"Ri****\",\n          \"Ru***\"\n        ],\n        \"semantic_type\": \"\",\n        \"description\": \"\"\n      }\n    },\n    {\n      \"column\": \"birthday\",\n      \"properties\": {\n        \"dtype\": \"object\",\n        \"num_unique_values\": 929,\n        \"samples\": [\n          \"13.04.89\",\n          \"05.12.64\",\n          \"05.04.72\"\n        ],\n        \"semantic_type\": \"\",\n        \"description\": \"\"\n      }\n    },\n    {\n      \"column\": \"country\",\n      \"properties\": {\n        \"dtype\": \"category\",\n        \"num_unique_values\": 48,\n        \"samples\": [\n          \"IT\",\n          \"PR\",\n          \"IS\"\n        ],\n        \"semantic_type\": \"\",\n        \"description\": \"\"\n      }\n    },\n    {\n      \"column\": \"marital_status\",\n      \"properties\": {\n        \"dtype\": \"category\",\n        \"num_unique_values\": 3,\n        \"samples\": [\n          \"1\",\n          \"0\",\n          \"NaN.0\"\n        ],\n        \"semantic_type\": \"\",\n        \"description\": \"\"\n      }\n    },\n    {\n      \"column\": \"number_of_kids\",\n      \"properties\": {\n        \"dtype\": \"number\",\n        \"std\": 1.2637446539888622,\n        \"min\": 0.0,\n        \"max\": 4.0,\n        \"num_unique_values\": 5,\n        \"samples\": [\n          0.0,\n          4.0,\n          1.0\n        ],\n        \"semantic_type\": \"\",\n        \"description\": \"\"\n      }\n    },\n    {\n      \"column\": \"employment\",\n      \"properties\": {\n        \"dtype\": \"category\",\n        \"num_unique_values\": 11,\n        \"samples\": [\n          \"Professor\",\n          \"Web Designer\",\n          \"Librarian\"\n        ],\n        \"semantic_type\": \"\",\n        \"description\": \"\"\n      }\n    }\n  ]\n}"
            }
          },
          "metadata": {},
          "execution_count": 5
        }
      ],
      "source": [
        "#Your code here\n",
        "user_records.head()"
      ]
    },
    {
      "cell_type": "markdown",
      "metadata": {
        "id": "3TgOsG-pI8Yo"
      },
      "source": [
        "#### Column/feature names\n",
        "print the list of columns in the user records dataset."
      ]
    },
    {
      "cell_type": "code",
      "execution_count": 6,
      "metadata": {
        "id": "KPRr2ogtI-3B",
        "outputId": "2beb7dab-4911-4e2e-e663-8250de3d80cf",
        "colab": {
          "base_uri": "https://localhost:8080/"
        }
      },
      "outputs": [
        {
          "output_type": "execute_result",
          "data": {
            "text/plain": [
              "['UserID',\n",
              " 'first_name',\n",
              " 'last_name',\n",
              " 'birthday',\n",
              " 'country',\n",
              " 'marital_status',\n",
              " 'number_of_kids',\n",
              " 'employment']"
            ]
          },
          "metadata": {},
          "execution_count": 6
        }
      ],
      "source": [
        "#Your code here\n",
        "list(user_records.columns)"
      ]
    },
    {
      "cell_type": "markdown",
      "metadata": {
        "id": "e1XYn9tvJHbL"
      },
      "source": [
        "#### Duplicates\n",
        "Check if there are any duplicate entries in the user records dataset.\n",
        "\n",
        "__Remark__: If there are two rows in the dataset that have the same value for __all of the columns__, we consider this as a duplicate."
      ]
    },
    {
      "cell_type": "code",
      "execution_count": 15,
      "metadata": {
        "id": "Ve6cJ5hbJIrQ",
        "outputId": "7f82dfd3-a1a0-47cc-85ea-0b4a80e86e24",
        "colab": {
          "base_uri": "https://localhost:8080/",
          "height": 453
        }
      },
      "outputs": [
        {
          "output_type": "execute_result",
          "data": {
            "text/plain": [
              "0      False\n",
              "1      False\n",
              "2      False\n",
              "3      False\n",
              "4      False\n",
              "       ...  \n",
              "952    False\n",
              "953    False\n",
              "954    False\n",
              "955    False\n",
              "956    False\n",
              "Length: 957, dtype: bool"
            ],
            "text/html": [
              "<div>\n",
              "<style scoped>\n",
              "    .dataframe tbody tr th:only-of-type {\n",
              "        vertical-align: middle;\n",
              "    }\n",
              "\n",
              "    .dataframe tbody tr th {\n",
              "        vertical-align: top;\n",
              "    }\n",
              "\n",
              "    .dataframe thead th {\n",
              "        text-align: right;\n",
              "    }\n",
              "</style>\n",
              "<table border=\"1\" class=\"dataframe\">\n",
              "  <thead>\n",
              "    <tr style=\"text-align: right;\">\n",
              "      <th></th>\n",
              "      <th>0</th>\n",
              "    </tr>\n",
              "  </thead>\n",
              "  <tbody>\n",
              "    <tr>\n",
              "      <th>0</th>\n",
              "      <td>False</td>\n",
              "    </tr>\n",
              "    <tr>\n",
              "      <th>1</th>\n",
              "      <td>False</td>\n",
              "    </tr>\n",
              "    <tr>\n",
              "      <th>2</th>\n",
              "      <td>False</td>\n",
              "    </tr>\n",
              "    <tr>\n",
              "      <th>3</th>\n",
              "      <td>False</td>\n",
              "    </tr>\n",
              "    <tr>\n",
              "      <th>4</th>\n",
              "      <td>False</td>\n",
              "    </tr>\n",
              "    <tr>\n",
              "      <th>...</th>\n",
              "      <td>...</td>\n",
              "    </tr>\n",
              "    <tr>\n",
              "      <th>952</th>\n",
              "      <td>False</td>\n",
              "    </tr>\n",
              "    <tr>\n",
              "      <th>953</th>\n",
              "      <td>False</td>\n",
              "    </tr>\n",
              "    <tr>\n",
              "      <th>954</th>\n",
              "      <td>False</td>\n",
              "    </tr>\n",
              "    <tr>\n",
              "      <th>955</th>\n",
              "      <td>False</td>\n",
              "    </tr>\n",
              "    <tr>\n",
              "      <th>956</th>\n",
              "      <td>False</td>\n",
              "    </tr>\n",
              "  </tbody>\n",
              "</table>\n",
              "<p>957 rows × 1 columns</p>\n",
              "</div><br><label><b>dtype:</b> bool</label>"
            ]
          },
          "metadata": {},
          "execution_count": 15
        }
      ],
      "source": [
        "#Your code here\n",
        "user_records.duplicated(keep=False)"
      ]
    },
    {
      "cell_type": "markdown",
      "metadata": {
        "id": "tebuO3lxJP-_"
      },
      "source": [
        "Show all the duplicated rows in the user records dataset.\n",
        "\n",
        "__Hint:__ use the method `duplicated(keep=False)` to get all occurrences of the duplicated rows."
      ]
    },
    {
      "cell_type": "code",
      "execution_count": 16,
      "metadata": {
        "id": "5UPbuQn5JQnQ",
        "outputId": "e784d5e3-5fac-4d64-910b-dfd960fc7496",
        "colab": {
          "base_uri": "https://localhost:8080/",
          "height": 142
        }
      },
      "outputs": [
        {
          "output_type": "execute_result",
          "data": {
            "text/plain": [
              "     UserID first_name last_name  birthday country marital_status  \\\n",
              "19   100684    Ma*****    Me****  17.06.76      AR            NaN   \n",
              "165  910382      Ni***    El****  21.03.75      AZ            NaN   \n",
              "290  610518    An*****  An******  15.02.53      DK              1   \n",
              "\n",
              "     number_of_kids               employment  \n",
              "19              0.0  Administrative employee  \n",
              "165             0.0  Administrative employee  \n",
              "290             NaN                  Manager  "
            ],
            "text/html": [
              "\n",
              "  <div id=\"df-0e5b3656-c66a-4dd7-9425-240dd1e83732\" class=\"colab-df-container\">\n",
              "    <div>\n",
              "<style scoped>\n",
              "    .dataframe tbody tr th:only-of-type {\n",
              "        vertical-align: middle;\n",
              "    }\n",
              "\n",
              "    .dataframe tbody tr th {\n",
              "        vertical-align: top;\n",
              "    }\n",
              "\n",
              "    .dataframe thead th {\n",
              "        text-align: right;\n",
              "    }\n",
              "</style>\n",
              "<table border=\"1\" class=\"dataframe\">\n",
              "  <thead>\n",
              "    <tr style=\"text-align: right;\">\n",
              "      <th></th>\n",
              "      <th>UserID</th>\n",
              "      <th>first_name</th>\n",
              "      <th>last_name</th>\n",
              "      <th>birthday</th>\n",
              "      <th>country</th>\n",
              "      <th>marital_status</th>\n",
              "      <th>number_of_kids</th>\n",
              "      <th>employment</th>\n",
              "    </tr>\n",
              "  </thead>\n",
              "  <tbody>\n",
              "    <tr>\n",
              "      <th>19</th>\n",
              "      <td>100684</td>\n",
              "      <td>Ma*****</td>\n",
              "      <td>Me****</td>\n",
              "      <td>17.06.76</td>\n",
              "      <td>AR</td>\n",
              "      <td>NaN</td>\n",
              "      <td>0.0</td>\n",
              "      <td>Administrative employee</td>\n",
              "    </tr>\n",
              "    <tr>\n",
              "      <th>165</th>\n",
              "      <td>910382</td>\n",
              "      <td>Ni***</td>\n",
              "      <td>El****</td>\n",
              "      <td>21.03.75</td>\n",
              "      <td>AZ</td>\n",
              "      <td>NaN</td>\n",
              "      <td>0.0</td>\n",
              "      <td>Administrative employee</td>\n",
              "    </tr>\n",
              "    <tr>\n",
              "      <th>290</th>\n",
              "      <td>610518</td>\n",
              "      <td>An*****</td>\n",
              "      <td>An******</td>\n",
              "      <td>15.02.53</td>\n",
              "      <td>DK</td>\n",
              "      <td>1</td>\n",
              "      <td>NaN</td>\n",
              "      <td>Manager</td>\n",
              "    </tr>\n",
              "  </tbody>\n",
              "</table>\n",
              "</div>\n",
              "    <div class=\"colab-df-buttons\">\n",
              "\n",
              "  <div class=\"colab-df-container\">\n",
              "    <button class=\"colab-df-convert\" onclick=\"convertToInteractive('df-0e5b3656-c66a-4dd7-9425-240dd1e83732')\"\n",
              "            title=\"Convert this dataframe to an interactive table.\"\n",
              "            style=\"display:none;\">\n",
              "\n",
              "  <svg xmlns=\"http://www.w3.org/2000/svg\" height=\"24px\" viewBox=\"0 -960 960 960\">\n",
              "    <path d=\"M120-120v-720h720v720H120Zm60-500h600v-160H180v160Zm220 220h160v-160H400v160Zm0 220h160v-160H400v160ZM180-400h160v-160H180v160Zm440 0h160v-160H620v160ZM180-180h160v-160H180v160Zm440 0h160v-160H620v160Z\"/>\n",
              "  </svg>\n",
              "    </button>\n",
              "\n",
              "  <style>\n",
              "    .colab-df-container {\n",
              "      display:flex;\n",
              "      gap: 12px;\n",
              "    }\n",
              "\n",
              "    .colab-df-convert {\n",
              "      background-color: #E8F0FE;\n",
              "      border: none;\n",
              "      border-radius: 50%;\n",
              "      cursor: pointer;\n",
              "      display: none;\n",
              "      fill: #1967D2;\n",
              "      height: 32px;\n",
              "      padding: 0 0 0 0;\n",
              "      width: 32px;\n",
              "    }\n",
              "\n",
              "    .colab-df-convert:hover {\n",
              "      background-color: #E2EBFA;\n",
              "      box-shadow: 0px 1px 2px rgba(60, 64, 67, 0.3), 0px 1px 3px 1px rgba(60, 64, 67, 0.15);\n",
              "      fill: #174EA6;\n",
              "    }\n",
              "\n",
              "    .colab-df-buttons div {\n",
              "      margin-bottom: 4px;\n",
              "    }\n",
              "\n",
              "    [theme=dark] .colab-df-convert {\n",
              "      background-color: #3B4455;\n",
              "      fill: #D2E3FC;\n",
              "    }\n",
              "\n",
              "    [theme=dark] .colab-df-convert:hover {\n",
              "      background-color: #434B5C;\n",
              "      box-shadow: 0px 1px 3px 1px rgba(0, 0, 0, 0.15);\n",
              "      filter: drop-shadow(0px 1px 2px rgba(0, 0, 0, 0.3));\n",
              "      fill: #FFFFFF;\n",
              "    }\n",
              "  </style>\n",
              "\n",
              "    <script>\n",
              "      const buttonEl =\n",
              "        document.querySelector('#df-0e5b3656-c66a-4dd7-9425-240dd1e83732 button.colab-df-convert');\n",
              "      buttonEl.style.display =\n",
              "        google.colab.kernel.accessAllowed ? 'block' : 'none';\n",
              "\n",
              "      async function convertToInteractive(key) {\n",
              "        const element = document.querySelector('#df-0e5b3656-c66a-4dd7-9425-240dd1e83732');\n",
              "        const dataTable =\n",
              "          await google.colab.kernel.invokeFunction('convertToInteractive',\n",
              "                                                    [key], {});\n",
              "        if (!dataTable) return;\n",
              "\n",
              "        const docLinkHtml = 'Like what you see? Visit the ' +\n",
              "          '<a target=\"_blank\" href=https://colab.research.google.com/notebooks/data_table.ipynb>data table notebook</a>'\n",
              "          + ' to learn more about interactive tables.';\n",
              "        element.innerHTML = '';\n",
              "        dataTable['output_type'] = 'display_data';\n",
              "        await google.colab.output.renderOutput(dataTable, element);\n",
              "        const docLink = document.createElement('div');\n",
              "        docLink.innerHTML = docLinkHtml;\n",
              "        element.appendChild(docLink);\n",
              "      }\n",
              "    </script>\n",
              "  </div>\n",
              "\n",
              "\n",
              "<div id=\"df-4f098a0e-3455-4e83-8cf5-faf145cd132a\">\n",
              "  <button class=\"colab-df-quickchart\" onclick=\"quickchart('df-4f098a0e-3455-4e83-8cf5-faf145cd132a')\"\n",
              "            title=\"Suggest charts\"\n",
              "            style=\"display:none;\">\n",
              "\n",
              "<svg xmlns=\"http://www.w3.org/2000/svg\" height=\"24px\"viewBox=\"0 0 24 24\"\n",
              "     width=\"24px\">\n",
              "    <g>\n",
              "        <path d=\"M19 3H5c-1.1 0-2 .9-2 2v14c0 1.1.9 2 2 2h14c1.1 0 2-.9 2-2V5c0-1.1-.9-2-2-2zM9 17H7v-7h2v7zm4 0h-2V7h2v10zm4 0h-2v-4h2v4z\"/>\n",
              "    </g>\n",
              "</svg>\n",
              "  </button>\n",
              "\n",
              "<style>\n",
              "  .colab-df-quickchart {\n",
              "      --bg-color: #E8F0FE;\n",
              "      --fill-color: #1967D2;\n",
              "      --hover-bg-color: #E2EBFA;\n",
              "      --hover-fill-color: #174EA6;\n",
              "      --disabled-fill-color: #AAA;\n",
              "      --disabled-bg-color: #DDD;\n",
              "  }\n",
              "\n",
              "  [theme=dark] .colab-df-quickchart {\n",
              "      --bg-color: #3B4455;\n",
              "      --fill-color: #D2E3FC;\n",
              "      --hover-bg-color: #434B5C;\n",
              "      --hover-fill-color: #FFFFFF;\n",
              "      --disabled-bg-color: #3B4455;\n",
              "      --disabled-fill-color: #666;\n",
              "  }\n",
              "\n",
              "  .colab-df-quickchart {\n",
              "    background-color: var(--bg-color);\n",
              "    border: none;\n",
              "    border-radius: 50%;\n",
              "    cursor: pointer;\n",
              "    display: none;\n",
              "    fill: var(--fill-color);\n",
              "    height: 32px;\n",
              "    padding: 0;\n",
              "    width: 32px;\n",
              "  }\n",
              "\n",
              "  .colab-df-quickchart:hover {\n",
              "    background-color: var(--hover-bg-color);\n",
              "    box-shadow: 0 1px 2px rgba(60, 64, 67, 0.3), 0 1px 3px 1px rgba(60, 64, 67, 0.15);\n",
              "    fill: var(--button-hover-fill-color);\n",
              "  }\n",
              "\n",
              "  .colab-df-quickchart-complete:disabled,\n",
              "  .colab-df-quickchart-complete:disabled:hover {\n",
              "    background-color: var(--disabled-bg-color);\n",
              "    fill: var(--disabled-fill-color);\n",
              "    box-shadow: none;\n",
              "  }\n",
              "\n",
              "  .colab-df-spinner {\n",
              "    border: 2px solid var(--fill-color);\n",
              "    border-color: transparent;\n",
              "    border-bottom-color: var(--fill-color);\n",
              "    animation:\n",
              "      spin 1s steps(1) infinite;\n",
              "  }\n",
              "\n",
              "  @keyframes spin {\n",
              "    0% {\n",
              "      border-color: transparent;\n",
              "      border-bottom-color: var(--fill-color);\n",
              "      border-left-color: var(--fill-color);\n",
              "    }\n",
              "    20% {\n",
              "      border-color: transparent;\n",
              "      border-left-color: var(--fill-color);\n",
              "      border-top-color: var(--fill-color);\n",
              "    }\n",
              "    30% {\n",
              "      border-color: transparent;\n",
              "      border-left-color: var(--fill-color);\n",
              "      border-top-color: var(--fill-color);\n",
              "      border-right-color: var(--fill-color);\n",
              "    }\n",
              "    40% {\n",
              "      border-color: transparent;\n",
              "      border-right-color: var(--fill-color);\n",
              "      border-top-color: var(--fill-color);\n",
              "    }\n",
              "    60% {\n",
              "      border-color: transparent;\n",
              "      border-right-color: var(--fill-color);\n",
              "    }\n",
              "    80% {\n",
              "      border-color: transparent;\n",
              "      border-right-color: var(--fill-color);\n",
              "      border-bottom-color: var(--fill-color);\n",
              "    }\n",
              "    90% {\n",
              "      border-color: transparent;\n",
              "      border-bottom-color: var(--fill-color);\n",
              "    }\n",
              "  }\n",
              "</style>\n",
              "\n",
              "  <script>\n",
              "    async function quickchart(key) {\n",
              "      const quickchartButtonEl =\n",
              "        document.querySelector('#' + key + ' button');\n",
              "      quickchartButtonEl.disabled = true;  // To prevent multiple clicks.\n",
              "      quickchartButtonEl.classList.add('colab-df-spinner');\n",
              "      try {\n",
              "        const charts = await google.colab.kernel.invokeFunction(\n",
              "            'suggestCharts', [key], {});\n",
              "      } catch (error) {\n",
              "        console.error('Error during call to suggestCharts:', error);\n",
              "      }\n",
              "      quickchartButtonEl.classList.remove('colab-df-spinner');\n",
              "      quickchartButtonEl.classList.add('colab-df-quickchart-complete');\n",
              "    }\n",
              "    (() => {\n",
              "      let quickchartButtonEl =\n",
              "        document.querySelector('#df-4f098a0e-3455-4e83-8cf5-faf145cd132a button');\n",
              "      quickchartButtonEl.style.display =\n",
              "        google.colab.kernel.accessAllowed ? 'block' : 'none';\n",
              "    })();\n",
              "  </script>\n",
              "</div>\n",
              "\n",
              "  <div id=\"id_26d7fc21-566d-4d0c-8645-56192fb8df30\">\n",
              "    <style>\n",
              "      .colab-df-generate {\n",
              "        background-color: #E8F0FE;\n",
              "        border: none;\n",
              "        border-radius: 50%;\n",
              "        cursor: pointer;\n",
              "        display: none;\n",
              "        fill: #1967D2;\n",
              "        height: 32px;\n",
              "        padding: 0 0 0 0;\n",
              "        width: 32px;\n",
              "      }\n",
              "\n",
              "      .colab-df-generate:hover {\n",
              "        background-color: #E2EBFA;\n",
              "        box-shadow: 0px 1px 2px rgba(60, 64, 67, 0.3), 0px 1px 3px 1px rgba(60, 64, 67, 0.15);\n",
              "        fill: #174EA6;\n",
              "      }\n",
              "\n",
              "      [theme=dark] .colab-df-generate {\n",
              "        background-color: #3B4455;\n",
              "        fill: #D2E3FC;\n",
              "      }\n",
              "\n",
              "      [theme=dark] .colab-df-generate:hover {\n",
              "        background-color: #434B5C;\n",
              "        box-shadow: 0px 1px 3px 1px rgba(0, 0, 0, 0.15);\n",
              "        filter: drop-shadow(0px 1px 2px rgba(0, 0, 0, 0.3));\n",
              "        fill: #FFFFFF;\n",
              "      }\n",
              "    </style>\n",
              "    <button class=\"colab-df-generate\" onclick=\"generateWithVariable('duplicate')\"\n",
              "            title=\"Generate code using this dataframe.\"\n",
              "            style=\"display:none;\">\n",
              "\n",
              "  <svg xmlns=\"http://www.w3.org/2000/svg\" height=\"24px\"viewBox=\"0 0 24 24\"\n",
              "       width=\"24px\">\n",
              "    <path d=\"M7,19H8.4L18.45,9,17,7.55,7,17.6ZM5,21V16.75L18.45,3.32a2,2,0,0,1,2.83,0l1.4,1.43a1.91,1.91,0,0,1,.58,1.4,1.91,1.91,0,0,1-.58,1.4L9.25,21ZM18.45,9,17,7.55Zm-12,3A5.31,5.31,0,0,0,4.9,8.1,5.31,5.31,0,0,0,1,6.5,5.31,5.31,0,0,0,4.9,4.9,5.31,5.31,0,0,0,6.5,1,5.31,5.31,0,0,0,8.1,4.9,5.31,5.31,0,0,0,12,6.5,5.46,5.46,0,0,0,6.5,12Z\"/>\n",
              "  </svg>\n",
              "    </button>\n",
              "    <script>\n",
              "      (() => {\n",
              "      const buttonEl =\n",
              "        document.querySelector('#id_26d7fc21-566d-4d0c-8645-56192fb8df30 button.colab-df-generate');\n",
              "      buttonEl.style.display =\n",
              "        google.colab.kernel.accessAllowed ? 'block' : 'none';\n",
              "\n",
              "      buttonEl.onclick = () => {\n",
              "        google.colab.notebook.generateWithVariable('duplicate');\n",
              "      }\n",
              "      })();\n",
              "    </script>\n",
              "  </div>\n",
              "\n",
              "    </div>\n",
              "  </div>\n"
            ],
            "application/vnd.google.colaboratory.intrinsic+json": {
              "type": "dataframe",
              "variable_name": "duplicate",
              "repr_error": "0"
            }
          },
          "metadata": {},
          "execution_count": 16
        }
      ],
      "source": [
        "#Your code here\n",
        "duplicate=user_records[user_records.duplicated()]\n",
        "duplicate"
      ]
    },
    {
      "cell_type": "markdown",
      "metadata": {
        "id": "qj3ec2_dD7OZ"
      },
      "source": [
        "**Q2. Are there any duplicate entries in the user records dataset?**\n",
        "\n",
        "*Note: Duplicate entries refer to two or more rows where all the values across every column are identical.*"
      ]
    },
    {
      "cell_type": "markdown",
      "source": [
        "Yes, there are 3 duplicate entries."
      ],
      "metadata": {
        "id": "Z3fieOOmjCe0"
      }
    },
    {
      "cell_type": "markdown",
      "metadata": {
        "id": "LvIVdCfzEE64"
      },
      "source": [
        "**Q3. How many duplicate entries are in the user records dataset?**\n",
        "\n",
        "(Remark: for instance: there are 2 duplicate \"entries\" in the following list: '1 ,2, 1, 3, 3, 4, 5'. It's 1 and 3)."
      ]
    },
    {
      "cell_type": "markdown",
      "source": [
        "There are 3. They are the entries with the following User ID: 100684, 910382 and 610518"
      ],
      "metadata": {
        "id": "qn5Ie0XqjRFp"
      }
    },
    {
      "cell_type": "markdown",
      "metadata": {
        "id": "AdTka1hDgpUB"
      },
      "source": [
        "Drop the duplicate entries in the user records dataset."
      ]
    },
    {
      "cell_type": "code",
      "execution_count": 33,
      "metadata": {
        "id": "Jp9ndUSZgtSj"
      },
      "outputs": [],
      "source": [
        "#Your code here\n",
        "duplicate_index=duplicate.index\n",
        "duplicate_index\n",
        "user_records.drop(duplicate_index, inplace=True)\n",
        "\n"
      ]
    },
    {
      "cell_type": "markdown",
      "metadata": {
        "id": "pLJGJqwPT8B9"
      },
      "source": [
        "### Spies often use false identities with fabricated data.\n",
        "\n",
        "#### This suggests that if certain data points occur with statistically improbable frequency, they might be fabricated.\n",
        "\n",
        "In this part we are going to verify if there are birthdates that have been reused an unusual amount of times."
      ]
    },
    {
      "cell_type": "code",
      "source": [
        "user_records.loc[0, \"birthday\"]"
      ],
      "metadata": {
        "id": "ZrPkLXV_w9nq",
        "outputId": "2fd55abe-a5c3-4454-fae2-685de56743d7",
        "colab": {
          "base_uri": "https://localhost:8080/",
          "height": 35
        }
      },
      "execution_count": 65,
      "outputs": [
        {
          "output_type": "execute_result",
          "data": {
            "text/plain": [
              "'29.07.03'"
            ],
            "application/vnd.google.colaboratory.intrinsic+json": {
              "type": "string"
            }
          },
          "metadata": {},
          "execution_count": 65
        }
      ]
    },
    {
      "cell_type": "markdown",
      "metadata": {
        "id": "Qm2RR5j8Ky-t"
      },
      "source": [
        "Let's first ensure that the birthday column in the user records dataset has the correct format (datetime):\n"
      ]
    },
    {
      "cell_type": "code",
      "execution_count": 73,
      "metadata": {
        "id": "KJ1-Bk2XULlt",
        "outputId": "261bfc26-9944-4f8d-a8f4-00a9e71ff753",
        "colab": {
          "base_uri": "https://localhost:8080/",
          "height": 537
        }
      },
      "outputs": [
        {
          "output_type": "error",
          "ename": "KeyError",
          "evalue": "19",
          "traceback": [
            "\u001b[0;31m---------------------------------------------------------------------------\u001b[0m",
            "\u001b[0;31mKeyError\u001b[0m                                  Traceback (most recent call last)",
            "\u001b[0;32m/usr/local/lib/python3.11/dist-packages/pandas/core/indexes/base.py\u001b[0m in \u001b[0;36mget_loc\u001b[0;34m(self, key)\u001b[0m\n\u001b[1;32m   3804\u001b[0m         \u001b[0;32mtry\u001b[0m\u001b[0;34m:\u001b[0m\u001b[0;34m\u001b[0m\u001b[0;34m\u001b[0m\u001b[0m\n\u001b[0;32m-> 3805\u001b[0;31m             \u001b[0;32mreturn\u001b[0m \u001b[0mself\u001b[0m\u001b[0;34m.\u001b[0m\u001b[0m_engine\u001b[0m\u001b[0;34m.\u001b[0m\u001b[0mget_loc\u001b[0m\u001b[0;34m(\u001b[0m\u001b[0mcasted_key\u001b[0m\u001b[0;34m)\u001b[0m\u001b[0;34m\u001b[0m\u001b[0;34m\u001b[0m\u001b[0m\n\u001b[0m\u001b[1;32m   3806\u001b[0m         \u001b[0;32mexcept\u001b[0m \u001b[0mKeyError\u001b[0m \u001b[0;32mas\u001b[0m \u001b[0merr\u001b[0m\u001b[0;34m:\u001b[0m\u001b[0;34m\u001b[0m\u001b[0;34m\u001b[0m\u001b[0m\n",
            "\u001b[0;32mindex.pyx\u001b[0m in \u001b[0;36mpandas._libs.index.IndexEngine.get_loc\u001b[0;34m()\u001b[0m\n",
            "\u001b[0;32mindex.pyx\u001b[0m in \u001b[0;36mpandas._libs.index.IndexEngine.get_loc\u001b[0;34m()\u001b[0m\n",
            "\u001b[0;32mpandas/_libs/hashtable_class_helper.pxi\u001b[0m in \u001b[0;36mpandas._libs.hashtable.Int64HashTable.get_item\u001b[0;34m()\u001b[0m\n",
            "\u001b[0;32mpandas/_libs/hashtable_class_helper.pxi\u001b[0m in \u001b[0;36mpandas._libs.hashtable.Int64HashTable.get_item\u001b[0;34m()\u001b[0m\n",
            "\u001b[0;31mKeyError\u001b[0m: 19",
            "\nThe above exception was the direct cause of the following exception:\n",
            "\u001b[0;31mKeyError\u001b[0m                                  Traceback (most recent call last)",
            "\u001b[0;32m<ipython-input-73-b27bbc608aab>\u001b[0m in \u001b[0;36m<cell line: 0>\u001b[0;34m()\u001b[0m\n\u001b[1;32m      7\u001b[0m \u001b[0mmylist\u001b[0m\u001b[0;34m=\u001b[0m\u001b[0muser_records\u001b[0m\u001b[0;34m[\u001b[0m\u001b[0;34m\"birthday\"\u001b[0m\u001b[0;34m]\u001b[0m\u001b[0;34m\u001b[0m\u001b[0;34m\u001b[0m\u001b[0m\n\u001b[1;32m      8\u001b[0m \u001b[0;32mfor\u001b[0m \u001b[0mi\u001b[0m \u001b[0;32min\u001b[0m \u001b[0mrange\u001b[0m\u001b[0;34m(\u001b[0m\u001b[0mlen\u001b[0m\u001b[0;34m(\u001b[0m\u001b[0mmylist\u001b[0m\u001b[0;34m)\u001b[0m\u001b[0;34m)\u001b[0m\u001b[0;34m:\u001b[0m\u001b[0;34m\u001b[0m\u001b[0;34m\u001b[0m\u001b[0m\n\u001b[0;32m----> 9\u001b[0;31m   \u001b[0mtest_str\u001b[0m\u001b[0;34m=\u001b[0m\u001b[0mmylist\u001b[0m\u001b[0;34m[\u001b[0m\u001b[0mi\u001b[0m\u001b[0;34m]\u001b[0m\u001b[0;34m\u001b[0m\u001b[0;34m\u001b[0m\u001b[0m\n\u001b[0m\u001b[1;32m     10\u001b[0m \u001b[0mres\u001b[0m\u001b[0;34m=\u001b[0m\u001b[0;32mTrue\u001b[0m\u001b[0;34m\u001b[0m\u001b[0;34m\u001b[0m\u001b[0m\n\u001b[1;32m     11\u001b[0m \u001b[0;32mtry\u001b[0m\u001b[0;34m:\u001b[0m\u001b[0;34m\u001b[0m\u001b[0;34m\u001b[0m\u001b[0m\n",
            "\u001b[0;32m/usr/local/lib/python3.11/dist-packages/pandas/core/series.py\u001b[0m in \u001b[0;36m__getitem__\u001b[0;34m(self, key)\u001b[0m\n\u001b[1;32m   1119\u001b[0m \u001b[0;34m\u001b[0m\u001b[0m\n\u001b[1;32m   1120\u001b[0m         \u001b[0;32melif\u001b[0m \u001b[0mkey_is_scalar\u001b[0m\u001b[0;34m:\u001b[0m\u001b[0;34m\u001b[0m\u001b[0;34m\u001b[0m\u001b[0m\n\u001b[0;32m-> 1121\u001b[0;31m             \u001b[0;32mreturn\u001b[0m \u001b[0mself\u001b[0m\u001b[0;34m.\u001b[0m\u001b[0m_get_value\u001b[0m\u001b[0;34m(\u001b[0m\u001b[0mkey\u001b[0m\u001b[0;34m)\u001b[0m\u001b[0;34m\u001b[0m\u001b[0;34m\u001b[0m\u001b[0m\n\u001b[0m\u001b[1;32m   1122\u001b[0m \u001b[0;34m\u001b[0m\u001b[0m\n\u001b[1;32m   1123\u001b[0m         \u001b[0;31m# Convert generator to list before going through hashable part\u001b[0m\u001b[0;34m\u001b[0m\u001b[0;34m\u001b[0m\u001b[0m\n",
            "\u001b[0;32m/usr/local/lib/python3.11/dist-packages/pandas/core/series.py\u001b[0m in \u001b[0;36m_get_value\u001b[0;34m(self, label, takeable)\u001b[0m\n\u001b[1;32m   1235\u001b[0m \u001b[0;34m\u001b[0m\u001b[0m\n\u001b[1;32m   1236\u001b[0m         \u001b[0;31m# Similar to Index.get_value, but we do not fall back to positional\u001b[0m\u001b[0;34m\u001b[0m\u001b[0;34m\u001b[0m\u001b[0m\n\u001b[0;32m-> 1237\u001b[0;31m         \u001b[0mloc\u001b[0m \u001b[0;34m=\u001b[0m \u001b[0mself\u001b[0m\u001b[0;34m.\u001b[0m\u001b[0mindex\u001b[0m\u001b[0;34m.\u001b[0m\u001b[0mget_loc\u001b[0m\u001b[0;34m(\u001b[0m\u001b[0mlabel\u001b[0m\u001b[0;34m)\u001b[0m\u001b[0;34m\u001b[0m\u001b[0;34m\u001b[0m\u001b[0m\n\u001b[0m\u001b[1;32m   1238\u001b[0m \u001b[0;34m\u001b[0m\u001b[0m\n\u001b[1;32m   1239\u001b[0m         \u001b[0;32mif\u001b[0m \u001b[0mis_integer\u001b[0m\u001b[0;34m(\u001b[0m\u001b[0mloc\u001b[0m\u001b[0;34m)\u001b[0m\u001b[0;34m:\u001b[0m\u001b[0;34m\u001b[0m\u001b[0;34m\u001b[0m\u001b[0m\n",
            "\u001b[0;32m/usr/local/lib/python3.11/dist-packages/pandas/core/indexes/base.py\u001b[0m in \u001b[0;36mget_loc\u001b[0;34m(self, key)\u001b[0m\n\u001b[1;32m   3810\u001b[0m             ):\n\u001b[1;32m   3811\u001b[0m                 \u001b[0;32mraise\u001b[0m \u001b[0mInvalidIndexError\u001b[0m\u001b[0;34m(\u001b[0m\u001b[0mkey\u001b[0m\u001b[0;34m)\u001b[0m\u001b[0;34m\u001b[0m\u001b[0;34m\u001b[0m\u001b[0m\n\u001b[0;32m-> 3812\u001b[0;31m             \u001b[0;32mraise\u001b[0m \u001b[0mKeyError\u001b[0m\u001b[0;34m(\u001b[0m\u001b[0mkey\u001b[0m\u001b[0;34m)\u001b[0m \u001b[0;32mfrom\u001b[0m \u001b[0merr\u001b[0m\u001b[0;34m\u001b[0m\u001b[0;34m\u001b[0m\u001b[0m\n\u001b[0m\u001b[1;32m   3813\u001b[0m         \u001b[0;32mexcept\u001b[0m \u001b[0mTypeError\u001b[0m\u001b[0;34m:\u001b[0m\u001b[0;34m\u001b[0m\u001b[0;34m\u001b[0m\u001b[0m\n\u001b[1;32m   3814\u001b[0m             \u001b[0;31m# If we have a listlike key, _check_indexing_error will raise\u001b[0m\u001b[0;34m\u001b[0m\u001b[0;34m\u001b[0m\u001b[0m\n",
            "\u001b[0;31mKeyError\u001b[0m: 19"
          ]
        }
      ],
      "source": [
        "#Check the data type of each feature\n",
        "#Your code here\n",
        "from datetime import datetime\n",
        "\n",
        "\n",
        "format=\"%d.%m.%y\"\n",
        "mylist=user_records[\"birthday\"]\n",
        "for i in range(len(mylist)):\n",
        "  test_str=mylist[i]\n",
        "res=True\n",
        "try:\n",
        "  res=bool(datetime.strptime(test_str, format))\n",
        "except ValueError:\n",
        "    res=False\n",
        "\n",
        "print(str(res))\n"
      ]
    },
    {
      "cell_type": "markdown",
      "metadata": {
        "id": "m1Bf_f-9qYTa"
      },
      "source": [
        "Convert the column `birthday` to datetime if necessary. Make sure to pass the correct format when parsing dates. In this case, the correct date format is `\"%d.%m.%y\"`."
      ]
    },
    {
      "cell_type": "code",
      "execution_count": null,
      "metadata": {
        "id": "3hmp9zVZK8fY"
      },
      "outputs": [],
      "source": [
        "#Your code here\n"
      ]
    },
    {
      "cell_type": "markdown",
      "metadata": {
        "id": "ZtNDR-qOzFfQ"
      },
      "source": [
        "Find the list of birthdays that are duplicated/reused in the dataset"
      ]
    },
    {
      "cell_type": "code",
      "execution_count": null,
      "metadata": {
        "id": "R7xDb_JPyD0x"
      },
      "outputs": [],
      "source": [
        "#Your code here\n"
      ]
    },
    {
      "cell_type": "markdown",
      "metadata": {
        "id": "FdIP5xyv2Qfs"
      },
      "source": [
        "Let's count how many people have their birthday on the same day among the duplicated birthdays."
      ]
    },
    {
      "cell_type": "code",
      "execution_count": null,
      "metadata": {
        "id": "JDXzbAGPzVXy"
      },
      "outputs": [],
      "source": [
        "#Your code here\n"
      ]
    },
    {
      "cell_type": "markdown",
      "metadata": {
        "id": "RVtdeKq7E4Bl"
      },
      "source": [
        "**Q4. What is the most common birthday in the dataset?**"
      ]
    },
    {
      "cell_type": "markdown",
      "metadata": {
        "id": "PrP661RxFBt2"
      },
      "source": [
        "**Q5. How many users have their birthdays on that day (the most common birthday)?**"
      ]
    },
    {
      "cell_type": "markdown",
      "metadata": {
        "id": "8hVJ7zM4RZk4"
      },
      "source": [
        "We can consider that there is no suspicious discrepancy through birthdays.\n"
      ]
    },
    {
      "cell_type": "markdown",
      "metadata": {
        "id": "-Akjuv9hBsPg"
      },
      "source": [
        "#### We have reasons to believe that the suspect works very thoroughly, so he would make sure that the fabricated data about his identity is complete in order for his operation to run smoothly.\n",
        "#### Therefore, we can exclude the people with incomplete information from the list of potential suspects."
      ]
    },
    {
      "cell_type": "markdown",
      "metadata": {
        "id": "OH0Rp5xb3OH9"
      },
      "source": [
        "Count how many null values are there in each column of the user records dataset. You can call `isnull()` and `sum()` to get a count of how many null values are there in each column."
      ]
    },
    {
      "cell_type": "code",
      "execution_count": null,
      "metadata": {
        "id": "27y9FBJG3MuR"
      },
      "outputs": [],
      "source": [
        "#Your code here\n"
      ]
    },
    {
      "cell_type": "markdown",
      "metadata": {
        "id": "b383FA5V0PfJ"
      },
      "source": [
        "If you encounter any null values in the dataset, be sure to exclude those entries from the suspect list."
      ]
    },
    {
      "cell_type": "code",
      "execution_count": null,
      "metadata": {
        "id": "OxZ-tXn10mAg"
      },
      "outputs": [],
      "source": [
        "#Your code here\n"
      ]
    },
    {
      "cell_type": "markdown",
      "metadata": {
        "id": "KkWJBx21Cq41"
      },
      "source": [
        "### Linking the user records to the flight records\n",
        "\n",
        "We will now proceed to identify the users who were in the USA from Sept 1st, 2019 to Oct 31st, 2020.\n",
        "\n",
        "We will merge the flight records with the user records in order to ensure that users who have been unsuspected in the previous step are not considered."
      ]
    },
    {
      "cell_type": "code",
      "execution_count": null,
      "metadata": {
        "id": "EL7JbTKQCqUR"
      },
      "outputs": [],
      "source": [
        "#check the user records dataset"
      ]
    },
    {
      "cell_type": "code",
      "execution_count": null,
      "metadata": {
        "id": "C8XXKKWVGa5_"
      },
      "outputs": [],
      "source": [
        "#check the flight records dataset\n"
      ]
    },
    {
      "cell_type": "markdown",
      "metadata": {
        "id": "Mp1SB0TPKoKM"
      },
      "source": [
        "[Merging](https://pandas.pydata.org/docs/user_guide/merging.html) the two datasets:\n",
        "\n",
        "*Hint: Use the above questions to identify on what feature to merge the datasets*\n",
        "\n",
        "The result should contain the features flightName, Departure, Arrival,  Date, UserID, first_name, last_name, etc."
      ]
    },
    {
      "cell_type": "code",
      "execution_count": null,
      "metadata": {
        "id": "SJbpo03uHBcW"
      },
      "outputs": [],
      "source": [
        "#Your code here\n"
      ]
    },
    {
      "cell_type": "markdown",
      "metadata": {
        "id": "qe8pzJ5A1TxQ"
      },
      "source": [
        "Remember, our suspect operates meticulously, ensuring that there are no null values in any entries."
      ]
    },
    {
      "cell_type": "code",
      "execution_count": null,
      "metadata": {
        "id": "5HWgNzpC1pmL"
      },
      "outputs": [],
      "source": [
        "#Your code here\n"
      ]
    },
    {
      "cell_type": "markdown",
      "metadata": {
        "id": "wmVg_OcqCzPe"
      },
      "source": [
        "Let's now identify the users who has **travelled to** the United States (US) between the 1st of september 2019 and the 31st of october 2020.\n",
        "\n",
        "*Note that the travel date is not in datetime format. Again, use the date format `\"%d.%m.%y\"` to do the conversion to datetime.*"
      ]
    },
    {
      "cell_type": "code",
      "execution_count": null,
      "metadata": {
        "id": "1qFGYqCsCynF"
      },
      "outputs": [],
      "source": [
        "#Your code here\n"
      ]
    },
    {
      "cell_type": "markdown",
      "metadata": {
        "id": "MoLO1Mz5IIZT"
      },
      "source": [
        "**Q6. How many suspects travelled to the US between the 1st of September 2019 and the 31st of October 2020?**"
      ]
    },
    {
      "cell_type": "markdown",
      "metadata": {
        "id": "75s4WJtCeOvK"
      },
      "source": [
        "**Q7. Which users are included in the remaining list of suspects who traveled to the US between the 1st of September 2019 and the 31st of October 2020?** Choose from the answers on Moodle."
      ]
    },
    {
      "cell_type": "markdown",
      "metadata": {
        "id": "6nh27RK8cMJZ"
      },
      "source": [
        "## [Data visualisation ](https://pandas.pydata.org/docs/user_guide/visualization.html)\n",
        "\n",
        " Suisse Impossible Mission Force is happy with the result and would like to have some visual aid to make a profile of the potential suspects."
      ]
    },
    {
      "cell_type": "markdown",
      "metadata": {
        "id": "5mX8w6H7c6ro"
      },
      "source": [
        "Let's create a pie chart to visualize the employment distribution among the suspects who traveled to US between September 1st, 2019, and October 31st, 2020."
      ]
    },
    {
      "cell_type": "code",
      "execution_count": null,
      "metadata": {
        "id": "5Muyk-xMc7h6"
      },
      "outputs": [],
      "source": [
        "#Your code here\n"
      ]
    },
    {
      "cell_type": "markdown",
      "metadata": {
        "id": "M9Neo8lE3wd9"
      },
      "source": [
        "**Q8. Which profession is the least represented among the suspects the suspects who traveled to US between September 1st, 2019, and October 31st, 2020?**\n",
        " Choose from the answers on Moodle.\n"
      ]
    },
    {
      "cell_type": "markdown",
      "metadata": {
        "id": "WBUy4QHHiWuO"
      },
      "source": [
        "## Journey length\n",
        "\n",
        "The Suisse Impossible Mission Force suspects that the rogue agent is an anomaly within his declared employment category, particularly in terms of the number of days he spent at destinations compared to his peers.\n",
        "\n",
        "To identify such deviations, we can employ boxplots for each employment category, allowing us to visually identify outliers in the data."
      ]
    },
    {
      "cell_type": "markdown",
      "metadata": {
        "id": "uiKyLYwHcCJ-"
      },
      "source": [
        "First, let's construct two tables: one for the dates of arrival and another for the dates of departure. Utilize the existing dataset to extract these dates based on the 'destination' and 'departure' columns. Ensure that both the arrival and departure dates are within the period the suspect is believed to have been in the US, which is from September 2019 to October 2020."
      ]
    },
    {
      "cell_type": "code",
      "execution_count": null,
      "metadata": {
        "id": "pZvGcHwbv0e7"
      },
      "outputs": [],
      "source": [
        "# For this step we will need the information not only about the fights to the US,\n",
        "# but also about the flights taken from the US\n",
        "# Your code here\n"
      ]
    },
    {
      "cell_type": "markdown",
      "metadata": {
        "id": "_gXDZXu0LUa5"
      },
      "source": [
        "We can keep on both of these tables the user ID, employment, and departure date / arrival date."
      ]
    },
    {
      "cell_type": "code",
      "execution_count": null,
      "metadata": {
        "id": "0m_fOp5LLjnq"
      },
      "outputs": [],
      "source": [
        "#Your code here\n"
      ]
    },
    {
      "cell_type": "markdown",
      "metadata": {
        "id": "zJR7PDWZL3oO"
      },
      "source": [
        "We can now join the two tables on user ID."
      ]
    },
    {
      "cell_type": "code",
      "execution_count": null,
      "metadata": {
        "id": "9INyxNK9L3aC"
      },
      "outputs": [],
      "source": [
        "#Your code here"
      ]
    },
    {
      "cell_type": "markdown",
      "metadata": {
        "id": "NK1vMch6MhsP"
      },
      "source": [
        "We can now create a new feature called journey_length representing the difference between departure date and arrival date.\n",
        "\n",
        "*Hint: Ensure that journey_length is of type numeric as the box plot in the next question requires a numeric type. To convert from datetime to number of days, you can use `dt.days`*"
      ]
    },
    {
      "cell_type": "code",
      "execution_count": null,
      "metadata": {
        "id": "6TFymz0VMxaU"
      },
      "outputs": [],
      "source": [
        "#Your code here\n"
      ]
    },
    {
      "cell_type": "markdown",
      "metadata": {
        "id": "ySuTXWou8wSf"
      },
      "source": [
        "*Sidenote: if you get negative journey length, what would be your explanation to that?*"
      ]
    },
    {
      "cell_type": "markdown",
      "metadata": {
        "id": "Nnlu7m3kPBEV"
      },
      "source": [
        "We can now create the boxplots where the x-axis represents each profession and the y-axis corresponds to the journey length."
      ]
    },
    {
      "cell_type": "code",
      "execution_count": null,
      "metadata": {
        "id": "nH9H5M18PDrm"
      },
      "outputs": [],
      "source": [
        "#Your code here\n"
      ]
    },
    {
      "cell_type": "markdown",
      "metadata": {
        "id": "SM4NCHMMJz8K"
      },
      "source": [
        "**Q9. Which profession has the most variability?**"
      ]
    },
    {
      "cell_type": "markdown",
      "metadata": {
        "id": "BqQD6lffRdNW"
      },
      "source": [
        "### SIMF is satisfied with your work but believes the current data is inconclusive.\n",
        "\n",
        "Your investigation will continue when more intelligence comes in..."
      ]
    },
    {
      "cell_type": "markdown",
      "metadata": {
        "id": "GUc8izkj48y2"
      },
      "source": [
        "**Don't forget to complete the moodle quiz ([Assignment Q1](https://moodle.unil.ch/mod/quiz/view.php?id=1744562)) and submit your code ([Code Q1](https://moodle.unil.ch/mod/assign/view.php?id=1744563)) on Moodle before Monday 30.09.2024.**"
      ]
    }
  ],
  "metadata": {
    "colab": {
      "provenance": []
    },
    "kernelspec": {
      "display_name": "base",
      "language": "python",
      "name": "python3"
    },
    "language_info": {
      "codemirror_mode": {
        "name": "ipython",
        "version": 3
      },
      "file_extension": ".py",
      "mimetype": "text/x-python",
      "name": "python",
      "nbconvert_exporter": "python",
      "pygments_lexer": "ipython3",
      "version": "3.9.13"
    }
  },
  "nbformat": 4,
  "nbformat_minor": 0
}